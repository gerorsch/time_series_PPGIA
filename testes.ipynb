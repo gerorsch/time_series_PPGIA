{
 "cells": [
  {
   "cell_type": "code",
   "execution_count": 1,
   "metadata": {},
   "outputs": [],
   "source": [
    "from arima import ARIMAModel\n",
    "import pandas as pd\n"
   ]
  },
  {
   "cell_type": "code",
   "execution_count": 2,
   "metadata": {},
   "outputs": [],
   "source": [
    "df = pd.read_csv(\"gold_price_data.csv\")"
   ]
  },
  {
   "cell_type": "code",
   "execution_count": 3,
   "metadata": {},
   "outputs": [
    {
     "data": {
      "text/html": [
       "<div>\n",
       "<style scoped>\n",
       "    .dataframe tbody tr th:only-of-type {\n",
       "        vertical-align: middle;\n",
       "    }\n",
       "\n",
       "    .dataframe tbody tr th {\n",
       "        vertical-align: top;\n",
       "    }\n",
       "\n",
       "    .dataframe thead th {\n",
       "        text-align: right;\n",
       "    }\n",
       "</style>\n",
       "<table border=\"1\" class=\"dataframe\">\n",
       "  <thead>\n",
       "    <tr style=\"text-align: right;\">\n",
       "      <th></th>\n",
       "      <th>Date</th>\n",
       "      <th>Value</th>\n",
       "    </tr>\n",
       "  </thead>\n",
       "  <tbody>\n",
       "    <tr>\n",
       "      <th>0</th>\n",
       "      <td>1970-01-01</td>\n",
       "      <td>35.20</td>\n",
       "    </tr>\n",
       "    <tr>\n",
       "      <th>1</th>\n",
       "      <td>1970-04-01</td>\n",
       "      <td>35.10</td>\n",
       "    </tr>\n",
       "    <tr>\n",
       "      <th>2</th>\n",
       "      <td>1970-07-01</td>\n",
       "      <td>35.40</td>\n",
       "    </tr>\n",
       "    <tr>\n",
       "      <th>3</th>\n",
       "      <td>1970-10-01</td>\n",
       "      <td>36.20</td>\n",
       "    </tr>\n",
       "    <tr>\n",
       "      <th>4</th>\n",
       "      <td>1971-01-01</td>\n",
       "      <td>37.40</td>\n",
       "    </tr>\n",
       "    <tr>\n",
       "      <th>...</th>\n",
       "      <td>...</td>\n",
       "      <td>...</td>\n",
       "    </tr>\n",
       "    <tr>\n",
       "      <th>10782</th>\n",
       "      <td>2020-03-09</td>\n",
       "      <td>1672.50</td>\n",
       "    </tr>\n",
       "    <tr>\n",
       "      <th>10783</th>\n",
       "      <td>2020-03-10</td>\n",
       "      <td>1655.70</td>\n",
       "    </tr>\n",
       "    <tr>\n",
       "      <th>10784</th>\n",
       "      <td>2020-03-11</td>\n",
       "      <td>1653.75</td>\n",
       "    </tr>\n",
       "    <tr>\n",
       "      <th>10785</th>\n",
       "      <td>2020-03-12</td>\n",
       "      <td>1570.70</td>\n",
       "    </tr>\n",
       "    <tr>\n",
       "      <th>10786</th>\n",
       "      <td>2020-03-13</td>\n",
       "      <td>1562.80</td>\n",
       "    </tr>\n",
       "  </tbody>\n",
       "</table>\n",
       "<p>10787 rows × 2 columns</p>\n",
       "</div>"
      ],
      "text/plain": [
       "             Date    Value\n",
       "0      1970-01-01    35.20\n",
       "1      1970-04-01    35.10\n",
       "2      1970-07-01    35.40\n",
       "3      1970-10-01    36.20\n",
       "4      1971-01-01    37.40\n",
       "...           ...      ...\n",
       "10782  2020-03-09  1672.50\n",
       "10783  2020-03-10  1655.70\n",
       "10784  2020-03-11  1653.75\n",
       "10785  2020-03-12  1570.70\n",
       "10786  2020-03-13  1562.80\n",
       "\n",
       "[10787 rows x 2 columns]"
      ]
     },
     "execution_count": 3,
     "metadata": {},
     "output_type": "execute_result"
    }
   ],
   "source": [
    "df"
   ]
  },
  {
   "cell_type": "code",
   "execution_count": 4,
   "metadata": {},
   "outputs": [],
   "source": [
    "# # Crie uma função para converter as datas\n",
    "# def convert_data(data_str):\n",
    "#     # Mapeie os nomes dos meses para seus números equivalentes\n",
    "#     meses = {'jan': 1, 'fev': 2, 'mar': 3, 'abr': 4, 'mai': 5, 'jun': 6, 'jul': 7, 'ago': 8, 'set': 9, 'out': 10, 'nov': 11, 'dez': 12}\n",
    "\n",
    "#     # Divida a string da data em partes\n",
    "#     partes = data_str.split('/')\n",
    "\n",
    "#     # Converta o mês para um número\n",
    "#     mes_num = meses[partes[0].lower()]\n",
    "\n",
    "#     # Adicione o ano e o mês ao novo formato de data\n",
    "#     nova_data = pd.to_datetime(f'20{partes[1]}-{mes_num:02d}')\n",
    "\n",
    "#     return nova_data\n",
    "\n",
    "# # Aplique a função de conversão à coluna 'data'\n",
    "# df['data'] = df['data'].apply(convert_data)\n",
    "\n",
    "# # Agora, 'data' está no formato de data e pode ser usada como índice para uma série temporal\n",
    "# # df.set_index('data', inplace=True)\n",
    "\n",
    "# # Agora você pode estudar a série temporal\n",
    "# print(df)"
   ]
  },
  {
   "cell_type": "code",
   "execution_count": 5,
   "metadata": {},
   "outputs": [
    {
     "data": {
      "text/html": [
       "<div>\n",
       "<style scoped>\n",
       "    .dataframe tbody tr th:only-of-type {\n",
       "        vertical-align: middle;\n",
       "    }\n",
       "\n",
       "    .dataframe tbody tr th {\n",
       "        vertical-align: top;\n",
       "    }\n",
       "\n",
       "    .dataframe thead th {\n",
       "        text-align: right;\n",
       "    }\n",
       "</style>\n",
       "<table border=\"1\" class=\"dataframe\">\n",
       "  <thead>\n",
       "    <tr style=\"text-align: right;\">\n",
       "      <th></th>\n",
       "      <th>Value</th>\n",
       "    </tr>\n",
       "    <tr>\n",
       "      <th>Date</th>\n",
       "      <th></th>\n",
       "    </tr>\n",
       "  </thead>\n",
       "  <tbody>\n",
       "    <tr>\n",
       "      <th>1970-01-01</th>\n",
       "      <td>35.20</td>\n",
       "    </tr>\n",
       "    <tr>\n",
       "      <th>1970-04-01</th>\n",
       "      <td>35.10</td>\n",
       "    </tr>\n",
       "    <tr>\n",
       "      <th>1970-07-01</th>\n",
       "      <td>35.40</td>\n",
       "    </tr>\n",
       "    <tr>\n",
       "      <th>1970-10-01</th>\n",
       "      <td>36.20</td>\n",
       "    </tr>\n",
       "    <tr>\n",
       "      <th>1971-01-01</th>\n",
       "      <td>37.40</td>\n",
       "    </tr>\n",
       "    <tr>\n",
       "      <th>...</th>\n",
       "      <td>...</td>\n",
       "    </tr>\n",
       "    <tr>\n",
       "      <th>2020-03-09</th>\n",
       "      <td>1672.50</td>\n",
       "    </tr>\n",
       "    <tr>\n",
       "      <th>2020-03-10</th>\n",
       "      <td>1655.70</td>\n",
       "    </tr>\n",
       "    <tr>\n",
       "      <th>2020-03-11</th>\n",
       "      <td>1653.75</td>\n",
       "    </tr>\n",
       "    <tr>\n",
       "      <th>2020-03-12</th>\n",
       "      <td>1570.70</td>\n",
       "    </tr>\n",
       "    <tr>\n",
       "      <th>2020-03-13</th>\n",
       "      <td>1562.80</td>\n",
       "    </tr>\n",
       "  </tbody>\n",
       "</table>\n",
       "<p>10787 rows × 1 columns</p>\n",
       "</div>"
      ],
      "text/plain": [
       "              Value\n",
       "Date               \n",
       "1970-01-01    35.20\n",
       "1970-04-01    35.10\n",
       "1970-07-01    35.40\n",
       "1970-10-01    36.20\n",
       "1971-01-01    37.40\n",
       "...             ...\n",
       "2020-03-09  1672.50\n",
       "2020-03-10  1655.70\n",
       "2020-03-11  1653.75\n",
       "2020-03-12  1570.70\n",
       "2020-03-13  1562.80\n",
       "\n",
       "[10787 rows x 1 columns]"
      ]
     },
     "execution_count": 5,
     "metadata": {},
     "output_type": "execute_result"
    }
   ],
   "source": [
    "df.set_index('Date', inplace=True)\n",
    "df.columns = [\"Value\"]\n",
    "\n",
    "df"
   ]
  },
  {
   "cell_type": "code",
   "execution_count": 6,
   "metadata": {},
   "outputs": [
    {
     "data": {
      "text/plain": [
       "pandas.core.frame.DataFrame"
      ]
     },
     "execution_count": 6,
     "metadata": {},
     "output_type": "execute_result"
    }
   ],
   "source": [
    "type(df)"
   ]
  },
  {
   "cell_type": "code",
   "execution_count": 7,
   "metadata": {},
   "outputs": [],
   "source": [
    "model = ARIMAModel(df)"
   ]
  },
  {
   "cell_type": "code",
   "execution_count": 8,
   "metadata": {},
   "outputs": [
    {
     "data": {
      "image/png": "[encoded data removed]",
      "text/plain": [
       "<Figure size 1200x500 with 2 Axes>"
      ]
     },
     "metadata": {},
     "output_type": "display_data"
    },
    {
     "data": {
      "text/plain": [
       "{'ADF Statistic': -0.07112124453813447,\n",
       " 'p-value': 0.9522400769147394,\n",
       " 'Critical Values': {'1%': -3.4309586221840513,\n",
       "  '5%': -2.861808976860248,\n",
       "  '10%': -2.566913171245489},\n",
       " 'Is Stationary': False}"
      ]
     },
     "execution_count": 8,
     "metadata": {},
     "output_type": "execute_result"
    }
   ],
   "source": [
    "model.check_stationarity(df)"
   ]
  },
  {
   "cell_type": "code",
   "execution_count": 9,
   "metadata": {},
   "outputs": [],
   "source": [
    "df_diff = model.difference(df)"
   ]
  },
  {
   "cell_type": "code",
   "execution_count": 10,
   "metadata": {},
   "outputs": [
    {
     "data": {
      "image/png": "[encoded data removed]",
      "text/plain": [
       "<Figure size 1200x500 with 2 Axes>"
      ]
     },
     "metadata": {},
     "output_type": "display_data"
    },
    {
     "data": {
      "text/plain": [
       "{'ADF Statistic': -17.568807521617348,\n",
       " 'p-value': 4.0613743604469985e-30,\n",
       " 'Critical Values': {'1%': -3.4309586221840513,\n",
       "  '5%': -2.861808976860248,\n",
       "  '10%': -2.566913171245489},\n",
       " 'Is Stationary': True}"
      ]
     },
     "execution_count": 10,
     "metadata": {},
     "output_type": "execute_result"
    }
   ],
   "source": [
    "model.check_stationarity(df_diff)"
   ]
  },
  {
   "cell_type": "code",
   "execution_count": 11,
   "metadata": {},
   "outputs": [
    {
     "name": "stdout",
     "output_type": "stream",
     "text": [
      "Tentando ARIMA(0,1,0)...\n",
      "ARIMA(0,1,0) -> MSE: 192642.11436283597\n",
      "Tentando ARIMA(0,1,1)...\n",
      "ARIMA(0,1,1) -> MSE: 192642.11436283597\n",
      "Tentando ARIMA(0,1,2)...\n",
      "ARIMA(0,1,2) -> MSE: 192642.11436283597\n",
      "Tentando ARIMA(0,1,3)...\n",
      "ARIMA(0,1,3) -> MSE: 192642.11436283597\n",
      "Tentando ARIMA(0,1,4)...\n",
      "ARIMA(0,1,4) -> MSE: 192642.11436283597\n",
      "Tentando ARIMA(0,1,5)...\n",
      "ARIMA(0,1,5) -> MSE: 192642.11436283597\n",
      "Tentando ARIMA(1,1,0)...\n",
      "ARIMA(1,1,0) -> MSE: 192491.5926616025\n",
      "Tentando ARIMA(1,1,1)...\n",
      "ARIMA(1,1,1) -> MSE: 192454.54136805344\n",
      "Tentando ARIMA(1,1,2)...\n",
      "ARIMA(1,1,2) -> MSE: 192457.4812568046\n",
      "Tentando ARIMA(1,1,3)...\n",
      "ARIMA(1,1,3) -> MSE: 192496.6985835711\n",
      "Tentando ARIMA(1,1,4)...\n",
      "ARIMA(1,1,4) -> MSE: 192367.6355640718\n",
      "Tentando ARIMA(1,1,5)...\n",
      "ARIMA(1,1,5) -> MSE: 192491.87564501815\n",
      "Tentando ARIMA(2,1,0)...\n",
      "ARIMA(2,1,0) -> MSE: 192228.66430958858\n",
      "Tentando ARIMA(2,1,1)...\n",
      "ARIMA(2,1,1) -> MSE: 191940.32239283988\n",
      "Tentando ARIMA(2,1,2)...\n",
      "ARIMA(2,1,2) -> MSE: 192457.51522992444\n",
      "Tentando ARIMA(2,1,3)...\n",
      "ARIMA(2,1,3) -> MSE: 192145.551603933\n",
      "Tentando ARIMA(2,1,4)...\n",
      "ARIMA(2,1,4) -> MSE: 192397.93277599092\n",
      "Tentando ARIMA(2,1,5)...\n",
      "ARIMA(2,1,5) -> MSE: 192420.27049021173\n",
      "Tentando ARIMA(3,1,0)...\n",
      "ARIMA(3,1,0) -> MSE: 192596.603455527\n",
      "Tentando ARIMA(3,1,1)...\n",
      "ARIMA(3,1,1) -> MSE: 192730.4385066355\n",
      "Tentando ARIMA(3,1,2)...\n",
      "ARIMA(3,1,2) -> MSE: 192591.84821300395\n",
      "Tentando ARIMA(3,1,3)...\n",
      "ARIMA(3,1,3) -> MSE: 192463.52155317806\n",
      "Tentando ARIMA(3,1,4)...\n",
      "ARIMA(3,1,4) -> MSE: 192593.912718765\n",
      "Tentando ARIMA(3,1,5)...\n",
      "ARIMA(3,1,5) -> MSE: 192551.3689793905\n",
      "Tentando ARIMA(4,1,0)...\n",
      "ARIMA(4,1,0) -> MSE: 192675.5582353128\n",
      "Tentando ARIMA(4,1,1)...\n",
      "ARIMA(4,1,1) -> MSE: 192589.28875356962\n",
      "Tentando ARIMA(4,1,2)...\n",
      "ARIMA(4,1,2) -> MSE: 192569.16108235728\n",
      "Tentando ARIMA(4,1,3)...\n",
      "ARIMA(4,1,3) -> MSE: 192427.20560017388\n",
      "Tentando ARIMA(4,1,4)...\n",
      "ARIMA(4,1,4) -> MSE: 192549.97509212943\n",
      "Tentando ARIMA(4,1,5)...\n",
      "ARIMA(4,1,5) -> MSE: 192502.22144162384\n",
      "Tentando ARIMA(5,1,0)...\n",
      "ARIMA(5,1,0) -> MSE: 192457.6053692271\n",
      "Tentando ARIMA(5,1,1)...\n",
      "ARIMA(5,1,1) -> MSE: 192571.2978842053\n",
      "Tentando ARIMA(5,1,2)...\n",
      "ARIMA(5,1,2) -> MSE: 192644.64864243328\n",
      "Tentando ARIMA(5,1,3)...\n",
      "ARIMA(5,1,3) -> MSE: 192450.12645344384\n",
      "Tentando ARIMA(5,1,4)...\n",
      "ARIMA(5,1,4) -> MSE: 192624.89961190204\n",
      "Tentando ARIMA(5,1,5)...\n",
      "ARIMA(5,1,5) -> MSE: 192611.26238807227\n"
     ]
    },
    {
     "data": {
      "text/plain": [
       "{'Best Params': (2, 1, 1), 'Best MSE': 191940.32239283988}"
      ]
     },
     "execution_count": 11,
     "metadata": {},
     "output_type": "execute_result"
    }
   ],
   "source": [
    "model.grid_search(5,5,5)\n",
    "\n"
   ]
  },
  {
   "cell_type": "code",
   "execution_count": 15,
   "metadata": {},
   "outputs": [],
   "source": [
    "coeficientes = model.fit(df, 2, 1, 1)"
   ]
  },
  {
   "cell_type": "code",
   "execution_count": 16,
   "metadata": {},
   "outputs": [
    {
     "data": {
      "text/plain": [
       "{'coeffs': array([0.9038745, 0.9038745, 0.       ]),\n",
       " 'residuals': array([  0.22309778,   0.99843105,   1.74250014, ..., -13.89669399,\n",
       "        -84.77194413, -65.44066648])}"
      ]
     },
     "execution_count": 16,
     "metadata": {},
     "output_type": "execute_result"
    }
   ],
   "source": [
    "coeficientes"
   ]
  },
  {
   "cell_type": "code",
   "execution_count": 14,
   "metadata": {},
   "outputs": [
    {
     "ename": "NameError",
     "evalue": "name 'series' is not defined",
     "output_type": "error",
     "traceback": [
      "\u001b[1;31m---------------------------------------------------------------------------\u001b[0m",
      "\u001b[1;31mNameError\u001b[0m                                 Traceback (most recent call last)",
      "Cell \u001b[1;32mIn[14], line 1\u001b[0m\n\u001b[1;32m----> 1\u001b[0m model1 \u001b[38;5;241m=\u001b[39m ARIMAModel(\u001b[43mseries\u001b[49m)\n",
      "\u001b[1;31mNameError\u001b[0m: name 'series' is not defined"
     ]
    }
   ],
   "source": [
    "model1 = ARIMAModel(series)"
   ]
  },
  {
   "cell_type": "code",
   "execution_count": 18,
   "metadata": {},
   "outputs": [
    {
     "name": "stdout",
     "output_type": "stream",
     "text": [
      "Tentando ARIMA(0,1,0)...\n",
      "ARIMA(0,1,0) -> MSE: 192642.11436283597\n",
      "Tentando ARIMA(0,1,1)...\n",
      "ARIMA(0,1,1) -> MSE: 192642.11436283597\n",
      "Tentando ARIMA(0,1,2)...\n",
      "ARIMA(0,1,2) -> MSE: 192642.11436283597\n",
      "Tentando ARIMA(0,1,3)...\n",
      "ARIMA(0,1,3) -> MSE: 192642.11436283597\n",
      "Tentando ARIMA(1,1,0)...\n",
      "ARIMA(1,1,0) -> MSE: 192269.79544047685\n",
      "Tentando ARIMA(1,1,1)...\n",
      "ARIMA(1,1,1) -> MSE: 192207.74491293132\n",
      "Tentando ARIMA(1,1,2)...\n",
      "ARIMA(1,1,2) -> MSE: 192189.15128290848\n",
      "Tentando ARIMA(1,1,3)...\n",
      "ARIMA(1,1,3) -> MSE: 192496.6085363353\n",
      "Tentando ARIMA(2,1,0)...\n",
      "ARIMA(2,1,0) -> MSE: 191956.32996039808\n",
      "Tentando ARIMA(2,1,1)...\n",
      "ARIMA(2,1,1) -> MSE: 191443.1977908509\n",
      "Tentando ARIMA(2,1,2)...\n",
      "ARIMA(2,1,2) -> MSE: 192381.3452371212\n",
      "Tentando ARIMA(2,1,3)...\n",
      "ARIMA(2,1,3) -> MSE: 192396.44000600927\n",
      "Tentando ARIMA(3,1,0)...\n",
      "ARIMA(3,1,0) -> MSE: 192426.5711709541\n",
      "Tentando ARIMA(3,1,1)...\n",
      "ARIMA(3,1,1) -> MSE: 192649.71533717643\n",
      "Tentando ARIMA(3,1,2)...\n",
      "ARIMA(3,1,2) -> MSE: 192604.02574344206\n",
      "Tentando ARIMA(3,1,3)...\n",
      "ARIMA(3,1,3) -> MSE: 192424.94964635116\n"
     ]
    },
    {
     "data": {
      "text/plain": [
       "{'Best Params': (2, 1, 1), 'Best MSE': 191443.1977908509}"
      ]
     },
     "execution_count": 18,
     "metadata": {},
     "output_type": "execute_result"
    }
   ],
   "source": [
    "model.grid_search(3,3,3)"
   ]
  },
  {
   "cell_type": "code",
   "execution_count": null,
   "metadata": {},
   "outputs": [],
   "source": []
  }
 ],
 "metadata": {
  "kernelspec": {
   "display_name": "sklearn-env",
   "language": "python",
   "name": "python3"
  },
  "language_info": {
   "codemirror_mode": {
    "name": "ipython",
    "version": 3
   },
   "file_extension": ".py",
   "mimetype": "text/x-python",
   "name": "python",
   "nbconvert_exporter": "python",
   "pygments_lexer": "ipython3",
   "version": "3.11.5"
  }
 },
 "nbformat": 4,
 "nbformat_minor": 2
}
